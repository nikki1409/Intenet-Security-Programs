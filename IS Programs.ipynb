{
 "cells": [
  {
   "cell_type": "markdown",
   "id": "05ffad2b",
   "metadata": {},
   "source": [
    "  # INTERNET SECURITY ASSIGNMENT "
   ]
  },
  {
   "cell_type": "markdown",
   "id": "4feb9f6c",
   "metadata": {},
   "source": [
    "# Q.1 Write a program that can encrypt  and decrypt using the Additive Cipher."
   ]
  },
  {
   "cell_type": "code",
   "execution_count": 23,
   "id": "a9e7db24",
   "metadata": {},
   "outputs": [
    {
     "name": "stdout",
     "output_type": "stream",
     "text": [
      "===Encrypt and Decrypt Using The ADDITIVE CIPHER===\n",
      "\n",
      "Enter The Message To Encrypt: hi\n",
      "Enter The Shift Value: 5\n",
      "Original Message: hi\n",
      "Encrpyted Message: mn\n",
      "Decrpyted Message: hi\n"
     ]
    }
   ],
   "source": [
    "# Encryption And Decryption Using Additive Cipher\n",
    "\n",
    "# encryption method\n",
    "def encrypt(message, shift):\n",
    "    \n",
    "    encrypt_msg = \"\"\n",
    "    for i in range(len(message)):\n",
    "        char = message[i]\n",
    "\n",
    "        # Encrypt uppercase characters\n",
    "        if char.isupper():\n",
    "            encrypt_msg += chr((ord(char) + shift - 65) % 26 + 65)\n",
    "\n",
    "        # Encrypt lowercase characters\n",
    "        else:\n",
    "            encrypt_msg += chr((ord(char) + shift - 97) % 26 + 97)\n",
    "\n",
    "    return encrypt_msg\n",
    "\n",
    "# decryption method\n",
    "def decrypt(message, shift):\n",
    "    \n",
    "    decrypt_msg = \"\"\n",
    "    for i in range(len(message)):\n",
    "        char = message[i]\n",
    "\n",
    "        # Decrpyt uppercase characters\n",
    "        if char.isupper():\n",
    "            decrypt_msg += chr((ord(char) + shift - 65) % 26 + 65)\n",
    "\n",
    "        # Decrypt lowercase characters\n",
    "        else:\n",
    "            decrypt_msg += chr((ord(char) + shift - 97) % 26 + 97)\n",
    "\n",
    "    return decrypt_msg\n",
    "\n",
    "print(\"===Encrypt and Decrypt Using The ADDITIVE CIPHER===\\n\")\n",
    "\n",
    "# taking the input from the user\n",
    "message = input(\"Enter The Message To Encrypt: \")\n",
    "shift = int(input(\"Enter The Shift Value: \"))\n",
    "\n",
    "print(\" The Original Message Is: \"+message)\n",
    "# calling the encrypt method\n",
    "encrypt_msg = encrypt(message, shift)\n",
    "print(\"The Encrpyted Message Is: \"+ encrypt_msg)\n",
    "message=encrypt_msg\n",
    "# calling the decrypt method\n",
    "decrypt_msg = decrypt(message, 26-shift)\n",
    "print(\"The Decrpyted Message Is: \"+decrypt_msg)\n",
    "\n"
   ]
  },
  {
   "cell_type": "markdown",
   "id": "1aefa2ff",
   "metadata": {},
   "source": [
    "# Q.2 Write a program that can encrypt and decrypyt using the Affine Cipher "
   ]
  },
  {
   "cell_type": "code",
   "execution_count": 5,
   "id": "0815c182",
   "metadata": {},
   "outputs": [
    {
     "name": "stdout",
     "output_type": "stream",
     "text": [
      "===Encrypt And Decrypyt Using The AFFINE CIPHER===\n",
      "\n",
      "Enter The Message To Encrypt: HELLO\n",
      "Enter The Key Value: 3 4\n",
      "[3, 4]\n",
      "The Original Message Is: HELLO\n",
      "The Encrypted Message Is: ZQLLU\n",
      "The Decrypted Message Is: HELLO\n"
     ]
    }
   ],
   "source": [
    "def egcd(a, b):\n",
    "    x, y, u, v = 0, 1, 1, 0\n",
    "    while a != 0:\n",
    "        q, r = b // a, b % a\n",
    "        m, n = x - u * q, y - v * q\n",
    "        b, a, x, y, u, v = a, r, u, v, m, n\n",
    "    gcd = b\n",
    "    return gcd, x, y\n",
    "\n",
    "\n",
    "def modinv(a, m):\n",
    "    gcd, x, y = egcd(a, m)\n",
    "    if gcd != 1:\n",
    "        return None  # modular inverse does not exist\n",
    "    else:\n",
    "        return x % m\n",
    "\n",
    "\n",
    "# encryption method\n",
    "def encrypt(message, key):\n",
    "    '''\n",
    "    C = (a*P + b) % 26\n",
    "    '''\n",
    "    return ''.join([chr(((key[0] * (ord(t) - ord('A')) + key[1]) % 26)\n",
    "                        + ord('A')) for t in message.upper().replace(' ', '')])\n",
    "\n",
    "\n",
    "#decryption method\n",
    "def affine_decrypt(cipher, key):\n",
    "    '''\n",
    "    P = (a^-1 * (C - b)) % 26\n",
    "    '''\n",
    "    return ''.join([ chr((( modinv(key[0], 26)*(ord(c) - ord('A') - key[1]))% 26) + ord('A')) for c in cipher ])\n",
    "# check the above function\n",
    "print(\"===Encrypt And Decrypyt Using The AFFINE CIPHER===\\n\")\n",
    "\n",
    "#taking the input from the user\n",
    "message = input(\"Enter The Message To Encrypt: \")\n",
    "key=list(map(int,input(\"Enter The Key Value: \").split(\" \")))\n",
    "print(key)\n",
    "print(\"The Original Message Is: \" + message)\n",
    "\n",
    "encrypt_msg = encrypt(message,key)\n",
    "print(\"The Encrypted Message Is: \" + encrypt_msg)\n",
    "message=encrypt_msg\n",
    "decrypt_msg=decrypt(message,key)\n",
    "print(\"The Decrypted Message Is: \" +decrypt_msg )\n"
   ]
  },
  {
   "cell_type": "markdown",
   "id": "c4c33b91",
   "metadata": {},
   "source": [
    "# Q.3 Write a program that can perform a letter frequency attack on an additive cipher without human intervention. Your software should produce possible plain text in rough order of likelihood. It would be good if your user interface allows user to specify \" Give me top 10 possible plain texts\""
   ]
  },
  {
   "cell_type": "code",
   "execution_count": 21,
   "id": "3a1e41a8",
   "metadata": {},
   "outputs": [
    {
     "name": "stdout",
     "output_type": "stream",
     "text": [
      "Input The Number Of Plain Texts That You Want (MAX:26) :  1\n",
      "\n",
      "\n",
      "Printing the Decoded Plain Texts:\n",
      "\n",
      "1: EB DA DWZ WJUPDEJC YKJBEZAJPEWH PK OWU, DA SNKPA EP EJ YELDAN, PDWP EO, XU OK YDWJCEJC PDA KNZAN KB PDA HAPPANO KB PDA WHLDWXAP, PDWP JKP W SKNZ YKQHZ XA IWZA KQP.\n",
      "\n"
     ]
    }
   ],
   "source": [
    "from collections import defaultdict\n",
    "\n",
    "def Attack(S):\n",
    "    \n",
    "    l = len(S)       # calculate length of string \n",
    "    S= S.upper()     # converting to uppercase to avoid any snag in frequency attack\n",
    "    ptext = []       # empty list to store plain text\n",
    "    \n",
    "    alphabet_freq = \"ETAOINSHRDLCUMWFGYPBVKJXQZ\"    # variable to store english letters in their decreasing order of frequency\n",
    "    \n",
    "    freq = defaultdict(int)      # dictionary to store frequency of letters\n",
    "    \n",
    "    for ch in S: freq[ch] += 1   # calculate frequency \n",
    "\n",
    "    \n",
    "    # Sorting frequency and storing it in a tuple\n",
    "    sorted_freq = tuple(sorted(freq.items(), key = lambda i: i[1], reverse=True))\n",
    "\n",
    "\n",
    "    for i in range(26):\n",
    "        \n",
    "        key = (26 + ord(sorted_freq[0][0]) - ord(alphabet_freq[i])) % 26\n",
    "        txt = \"\"\n",
    "\n",
    "        for j in range(len(S)):\n",
    "            # decoding string\n",
    "            if(S[j] >= 'A' and S[j] <= 'Z'):\n",
    "                txt += chr(65 + (ord(S[j]) - 65 + key) % 26)\n",
    "            else: \n",
    "                txt += S[j]\n",
    "\n",
    "        ptext.append(txt)  # appending the txt to the list\n",
    "\n",
    "    return ptext\n",
    "\n",
    "S = \"Pm ol ohk hufaopun jvumpkluaphs av zhf, ol dyval pa pu jpwoly, aoha pz, if zv johunpun aol vykly vm aol slaalyz vm aol hswohila, aoha uva h dvyk jvbsk il thkl vba.\"\n",
    "\n",
    "# calling the function to get plaintexts\n",
    "text = Attack(S)\n",
    "\n",
    "\n",
    "plain_txt = int(input(\"Input The Number Of Plain Texts That You Want (MAX:26) :  \"))\n",
    "\n",
    "print(\"\\n\\nPrinting the Decoded Plain Texts:\\n\")\n",
    "# printing the plaintexts\n",
    "r=plain_txt % 26\n",
    "for i in range(r):\n",
    "    print( i + 1, end = \": \")\n",
    "    print( text[i], end = \"\\n\\n\")"
   ]
  },
  {
   "cell_type": "markdown",
   "id": "ff6f9267",
   "metadata": {},
   "source": [
    "# Q.4 Write a program that can perform a letter frequency attack on any monoalphabetic substitution cipher without human intervention. Your software should produce possible plain text in rough order of likelihood. It would be good if your user interface allows user to specify \" Give me top 10 possible plain texts\""
   ]
  },
  {
   "cell_type": "code",
   "execution_count": 26,
   "id": "0f648557",
   "metadata": {},
   "outputs": [
    {
     "name": "stdout",
     "output_type": "stream",
     "text": [
      "Input The Number Of Plain Texts You Want(max: 720): 2\n",
      "\n",
      "\n",
      "PRINTING THE DECODED PLAIN TEXTS:\n",
      "\n",
      "1 :   ND AT AOH OSMEANSW LISDNHTSENOC EI UOM AT GRIET NE NS LNYATR EAOE NU FM UI LAOSWNSW EAT IRHTR ID EAT CTEETRU ID EAT OCYAOFTE EAOE SIE O GIRH LIPCH FT BOHT IPE\n",
      "\n",
      "2 :   ND AT AOH OSMEANSW LISDNHTSENOC EI UOM AT GRIET NE NS LNYATR EAOE NU FM UI LAOSWNSW EAT IRHTR ID EAT CTEETRU ID EAT OCYAOFTE EAOE SIE O GIRH LIBCH FT POHT IBE\n",
      "\n"
     ]
    }
   ],
   "source": [
    "from collections import defaultdict\n",
    "from itertools import permutations\n",
    "\n",
    "def Attack(S):\n",
    "    \n",
    "    l = len(S)       # calculate length of string \n",
    "    S= S.upper()     # converting to uppercase to avoid any snag in frequency attack\n",
    "    ptext = []       # empty list to store plain text\n",
    "    \n",
    "    alphabet_freq = \"ETAOINSHRDLCUMWFGYPBVKJXQZ\"    # variable to store english letters in their decreasing order of frequency\n",
    "    \n",
    "    freq = defaultdict(int)      # dictionary to store frequency of letters\n",
    "    \n",
    "    for ch in S:  # calculate frequency\n",
    "        if(ch >= 'A' and ch <= 'Z'):\n",
    "            freq[ch] += 1\n",
    "           \n",
    "    # generating top permutations\n",
    "    n = len(freq)\n",
    "    permute = alphabet_freq = alphabet_freq[:n]\n",
    "\n",
    "    # generating top 720 permuatatons \n",
    "    if(n>6):\n",
    "        permute = alphabet_freq[-6:]\n",
    "        top_permutations = [alphabet_freq[:-6] + ''.join(perm) for perm in tuple(permutations(permute))]\n",
    "    else:\n",
    "        top_permutations = [''.join(perm) for perm in tuple(permutations(permute))]\n",
    "\n",
    "   \n",
    "    sorted_freq = tuple(sorted(freq.items(), key = lambda i: i[1], reverse=True))\n",
    "\n",
    "    # using top permutations string will be decoded\n",
    "    for perm in top_permutations:\n",
    "        txt = ['' for _ in range(l)]\n",
    "\n",
    "        p = 0\n",
    "        for ch, freq in sorted_freq:\n",
    "            # traversing on string and decoding it\n",
    "            for j in range(len(S)):\n",
    "                if(S[j] == ' '):\n",
    "                    txt[j] = ' '\n",
    "                elif(S[j] == ch):\n",
    "                    txt[j] = perm[p]\n",
    "\n",
    "            p += 1\n",
    "\n",
    "        ptext.append(''.join(txt))  # appending the text to the list\n",
    "\n",
    "    return ptext\n",
    "\n",
    "S = \" Pm ol ohk hufaopun jvumpkluaphs av zhf, ol dyval pa pu jpwoly, aoha pz, if zv johunpun aol vykly vm aol slaalyz vm aol hswohila, aoha uva h dvyk jvbsk il thkl vba\"\n",
    "# calling the frequency attack function\n",
    "text = Attack(S)\n",
    "\n",
    "plain_txt = int(input(\"Input The Number Of Plain Texts You Want(max: 720): \"))\n",
    "\n",
    "print(\"\\n\\nPRINTING THE DECODED PLAIN TEXTS:\\n\")\n",
    "r=plain_txt % 720\n",
    "for i in range(r):\n",
    "    print( i + 1, \": \", text[i], end = \"\\n\\n\")"
   ]
  },
  {
   "cell_type": "markdown",
   "id": "2f83feb9",
   "metadata": {},
   "source": [
    "# Q.5 Write a program that can encrypt and Decrypt using a 2 X 2 Hill Cipher."
   ]
  },
  {
   "cell_type": "code",
   "execution_count": 5,
   "id": "44386919",
   "metadata": {},
   "outputs": [
    {
     "name": "stdout",
     "output_type": "stream",
     "text": [
      "Collecting numpyNote: you may need to restart the kernel to use updated packages.\n",
      "  Downloading numpy-1.21.3-cp310-cp310-win_amd64.whl (14.0 MB)\n",
      "Installing collected packages: numpy\n",
      "Successfully installed numpy-1.21.3\n",
      "\n"
     ]
    },
    {
     "name": "stderr",
     "output_type": "stream",
     "text": [
      "WARNING: You are using pip version 21.2.3; however, version 21.3 is available.\n",
      "You should consider upgrading via the 'C:\\Users\\Pooja\\AppData\\Local\\Programs\\Python\\Python310\\python.exe -m pip install --upgrade pip' command.\n"
     ]
    }
   ],
   "source": [
    "pip install numpy"
   ]
  },
  {
   "cell_type": "code",
   "execution_count": 11,
   "id": "59f901d2",
   "metadata": {},
   "outputs": [
    {
     "name": "stdout",
     "output_type": "stream",
     "text": [
      "Requirement already satisfied: egcd in c:\\users\\pooja\\appdata\\local\\programs\\python\\python310\\lib\\site-packages (0.1.0)\n",
      "Note: you may need to restart the kernel to use updated packages.\n"
     ]
    },
    {
     "name": "stderr",
     "output_type": "stream",
     "text": [
      "WARNING: You are using pip version 21.2.3; however, version 21.3 is available.\n",
      "You should consider upgrading via the 'C:\\Users\\Pooja\\AppData\\Local\\Programs\\Python\\Python310\\python.exe -m pip install --upgrade pip' command.\n"
     ]
    }
   ],
   "source": [
    "pip install egcd"
   ]
  },
  {
   "cell_type": "code",
   "execution_count": 14,
   "id": "42d5f938",
   "metadata": {},
   "outputs": [
    {
     "name": "stdout",
     "output_type": "stream",
     "text": [
      "===Encrypt and Decrypt Using The HILL CIPHER===\n",
      "Enter The Message To Encrypt: \n",
      "nikita\n",
      "The Original Message Is:  nikita\n",
      "Input 4 letter cipher: hill\n",
      "The Encrypted Message Is:  XKCMDW\n",
      "Input 4 letter cipher: hill\n",
      "The Decrypted Message Is:  NIKITA\n"
     ]
    }
   ],
   "source": [
    "\n",
    "import numpy as np\n",
    "\n",
    "\n",
    "def encrypt(msg):\n",
    "    # Replace spaces with nothing\n",
    "    msg = msg.replace(\" \", \"\")\n",
    "    # Ask for keyword and get encryption matrix\n",
    "    C = make_key()\n",
    "    # Append zero if the messsage isn't divisble by 2\n",
    "    len_check = len(msg) % 2 == 0\n",
    "    if not len_check:\n",
    "        msg += \"0\"\n",
    "    # Populate message matrix\n",
    "    P = create_matrix_of_integers_from_string(msg)\n",
    "    # Calculate length of the message\n",
    "    msg_len = int(len(msg) / 2)\n",
    "    # Calculate P * C\n",
    "    encrypted_msg = \"\"\n",
    "    for i in range(msg_len):\n",
    "        # Dot product\n",
    "        row_0 = P[0][i] * C[0][0] + P[1][i] * C[0][1]\n",
    "        # Modulate and add 65 to get back to the A-Z range in ascii\n",
    "        integer = int(row_0 % 26 + 65)\n",
    "        # Change back to chr type and add to text\n",
    "        encrypted_msg += chr(integer)\n",
    "        # Repeat for the second column\n",
    "        row_1 = P[0][i] * C[1][0] + P[1][i] * C[1][1]\n",
    "        integer = int(row_1 % 26 + 65)\n",
    "        encrypted_msg += chr(integer)\n",
    "    return encrypted_msg\n",
    "\n",
    "def decrypt(encrypted_msg):\n",
    "    # Ask for keyword and get encryption matrix\n",
    "    C = make_key()\n",
    "    # Inverse matrix\n",
    "    determinant = C[0][0] * C[1][1] - C[0][1] * C[1][0]\n",
    "    determinant = determinant % 26\n",
    "    multiplicative_inverse = find_multiplicative_inverse(determinant)\n",
    "    C_inverse = C\n",
    "    # Swap a <-> d\n",
    "    C_inverse[0][0], C_inverse[1][1] = C_inverse[1, 1], C_inverse[0, 0]\n",
    "    # Replace\n",
    "    C[0][1] *= -1\n",
    "    C[1][0] *= -1\n",
    "    for row in range(2):\n",
    "        for column in range(2):\n",
    "            C_inverse[row][column] *= multiplicative_inverse\n",
    "            C_inverse[row][column] = C_inverse[row][column] % 26\n",
    "\n",
    "    P = create_matrix_of_integers_from_string(encrypted_msg)\n",
    "    msg_len = int(len(encrypted_msg) / 2)\n",
    "    decrypted_msg = \"\"\n",
    "    for i in range(msg_len):\n",
    "        # Dot product\n",
    "        column_0 = P[0][i] * C_inverse[0][0] + P[1][i] * C_inverse[0][1]\n",
    "        # Modulate and add 65 to get back to the A-Z range in ascii\n",
    "        integer = int(column_0 % 26 + 65)\n",
    "        # Change back to chr type and add to text\n",
    "        decrypted_msg += chr(integer)\n",
    "        # Repeat for the second column\n",
    "        column_1 = P[0][i] * C_inverse[1][0] + P[1][i] * C_inverse[1][1]\n",
    "        integer = int(column_1 % 26 + 65)\n",
    "        decrypted_msg += chr(integer)\n",
    "    if decrypted_msg[-1] == \"0\":\n",
    "        decrypted_msg = decrypted_msg[:-1]\n",
    "    return decrypted_msg\n",
    "\n",
    "def find_multiplicative_inverse(determinant):\n",
    "    multiplicative_inverse = -1\n",
    "    for i in range(26):\n",
    "        inverse = determinant * i\n",
    "        if inverse % 26 == 1:\n",
    "            multiplicative_inverse = i\n",
    "            break\n",
    "    return multiplicative_inverse\n",
    "\n",
    "\n",
    "def make_key():\n",
    "     # Make sure cipher determinant is relatively prime to 26 and only a/A - z/Z are given\n",
    "    determinant = 0\n",
    "    C = None\n",
    "    while True:\n",
    "        cipher = input(\"Input 4 letter cipher: \")\n",
    "        C = create_matrix_of_integers_from_string(cipher)\n",
    "        determinant = C[0][0] * C[1][1] - C[0][1] * C[1][0]\n",
    "        determinant = determinant % 26\n",
    "        inverse_element = find_multiplicative_inverse(determinant)\n",
    "        if inverse_element == -1:\n",
    "            print(\"Determinant is not relatively prime to 26, uninvertible key\")\n",
    "        elif np.amax(C) > 26 and np.amin(C) < 0:\n",
    "            print(\"Only a-z characters are accepted\")\n",
    "            print(np.amax(C), np.amin(C))\n",
    "        else:\n",
    "            break\n",
    "    return C\n",
    "\n",
    "def create_matrix_of_integers_from_string(string):\n",
    "    # Map string to a list of integers a/A <-> 0, b/B <-> 1 ... z/Z <-> 25\n",
    "    integers = [chr_to_int(c) for c in string]\n",
    "    length = len(integers)\n",
    "    M = np.zeros((2, int(length / 2)), dtype=np.int32)\n",
    "    iterator = 0\n",
    "    for column in range(int(length / 2)):\n",
    "        for row in range(2):\n",
    "            M[row][column] = integers[iterator]\n",
    "            iterator += 1\n",
    "    return M\n",
    "\n",
    "def chr_to_int(char):\n",
    "    # Uppercase the char to get into range 65-90 in ascii table\n",
    "    char = char.upper()\n",
    "    # Cast chr to int and subtract 65 to get 0-25\n",
    "    integer = ord(char) - 65\n",
    "    return integer\n",
    "\n",
    "print(\"===Encrypt and Decrypt Using The HILL CIPHER===\")\n",
    "msg = input(\"Enter The Message To Encrypt: \\n\")\n",
    "print(\"The Original Message Is: \",msg)\n",
    "encrypt_msg = encrypt(msg)\n",
    "print(\"The Encrypted Message Is: \",encrypt_msg)\n",
    "decrypt_msg = decrypt(encrypt_msg)\n",
    "print(\"The Decrypted Message Is: \",decrypt_msg)"
   ]
  },
  {
   "cell_type": "code",
   "execution_count": null,
   "id": "56931029",
   "metadata": {},
   "outputs": [],
   "source": []
  }
 ],
 "metadata": {
  "kernelspec": {
   "display_name": "Python 3 (ipykernel)",
   "language": "python",
   "name": "python3"
  },
  "language_info": {
   "codemirror_mode": {
    "name": "ipython",
    "version": 3
   },
   "file_extension": ".py",
   "mimetype": "text/x-python",
   "name": "python",
   "nbconvert_exporter": "python",
   "pygments_lexer": "ipython3",
   "version": "3.10.0"
  }
 },
 "nbformat": 4,
 "nbformat_minor": 5
}
